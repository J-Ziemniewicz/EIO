{
  "nbformat": 4,
  "nbformat_minor": 0,
  "metadata": {
    "colab": {
      "name": "Copy of lab_layers.ipynb",
      "provenance": [],
      "collapsed_sections": []
    },
    "kernelspec": {
      "name": "python3",
      "display_name": "Python 3"
    }
  },
  "cells": [
    {
      "cell_type": "markdown",
      "metadata": {
        "id": "ebvqJaNU9bkH",
        "colab_type": "text"
      },
      "source": [
        "# Elementy Inteligencji Obliczeniowej - Sieci Neuronowe\n",
        "\n",
        "\n",
        "---\n",
        "\n",
        "**Prowadzący:** Jakub Bednarek<br>\n",
        "**Kontakt:** jakub.bednarek@put.poznan.pl<br>\n",
        "**Materiały:** [Strona WWW](http://jakub.bednarek.pracownik.put.poznan.pl)\n",
        "\n",
        "---"
      ]
    },
    {
      "cell_type": "markdown",
      "metadata": {
        "id": "i0tVMrm99g5w",
        "colab_type": "text"
      },
      "source": [
        "## Uwaga\n",
        "\n",
        "* **Aby wykonać polecenia należy najpierw przejść do trybu 'playground'. File -> Open in Playground Mode**\n",
        "* Nowe funkcje Colab pozwalają na autouzupełnianie oraz czytanie dokumentacji"
      ]
    },
    {
      "cell_type": "markdown",
      "metadata": {
        "id": "Wlq47LA0BuBB",
        "colab_type": "text"
      },
      "source": [
        "## Cel ćwiczeń:\n",
        "- zapoznanie się z Keras subclassing API\n",
        "- stworzenie własnych modeli i warstw z wykorzystaniem Keras subclassing API\n",
        "- wykorzystanie podstawowych mechanizmów regularyzacji: Dropout i Batch normalization"
      ]
    },
    {
      "cell_type": "code",
      "metadata": {
        "id": "SxLU8paIDmUe",
        "colab_type": "code",
        "colab": {
          "base_uri": "https://localhost:8080/",
          "height": 35
        },
        "outputId": "898df450-1643-4257-a118-8b8ce4f1bdb6"
      },
      "source": [
        "%tensorflow_version 2.x\n",
        "\n",
        "import tensorflow as tf\n",
        "import numpy as np"
      ],
      "execution_count": 1,
      "outputs": [
        {
          "output_type": "stream",
          "text": [
            "TensorFlow 2.x selected.\n"
          ],
          "name": "stdout"
        }
      ]
    },
    {
      "cell_type": "code",
      "metadata": {
        "id": "scL5_bHTD-M7",
        "colab_type": "code",
        "colab": {}
      },
      "source": [
        "from tensorflow.keras.datasets import mnist\n",
        "from tensorflow.keras.models import Sequential, Model\n",
        "from tensorflow.keras.layers import Dense, Dropout, Flatten, BatchNormalization, Conv2D, MaxPooling2D, Layer\n",
        "from tensorflow.keras.utils import to_categorical\n",
        "from tensorflow.keras.losses import categorical_crossentropy\n",
        "from tensorflow.keras.optimizers import Adadelta, RMSprop\n",
        "from tensorflow.python.keras import backend as K\n"
      ],
      "execution_count": 0,
      "outputs": []
    },
    {
      "cell_type": "code",
      "metadata": {
        "id": "wV_u-YBWEJ8X",
        "colab_type": "code",
        "colab": {}
      },
      "source": [
        "(x_train, y_train), (x_test, y_test) = mnist.load_data()\n",
        "\n",
        "\n",
        "x_train = x_train[:, :, :, np.newaxis].astype('float32')\n",
        "x_test = x_test[:, :, :, np.newaxis].astype('float32')\n",
        "x_train /= 255\n",
        "x_test /= 255\n",
        "\n",
        "# x_train = x_train.reshape(60000, 784)\n",
        "# x_test = x_test.reshape(10000, 784)\n",
        "\n",
        "y_train = to_categorical(y_train, 10)\n",
        "y_test = to_categorical(y_test, 10)"
      ],
      "execution_count": 0,
      "outputs": []
    },
    {
      "cell_type": "markdown",
      "metadata": {
        "id": "ppmDSGoyFuJ9",
        "colab_type": "text"
      },
      "source": [
        "## Tworzenie własnych modeli i warstw \n",
        "https://www.tensorflow.org/guide/keras/custom_layers_and_models\n",
        "\n",
        "Przykładowy model z warstwami gęstymi dla danych MNIST:"
      ]
    },
    {
      "cell_type": "code",
      "metadata": {
        "id": "ViqotGlHGy9t",
        "colab_type": "code",
        "colab": {}
      },
      "source": [
        "class DenseModel(Model):\n",
        "\n",
        "  def __init__(self, num_classes=10):\n",
        "    super(DenseModel, self).__init__(name='my_model')\n",
        "    self.num_classes = num_classes\n",
        "    # Define your layers here.\n",
        "    self.dense_1 = Dense(512, input_shape=(784,), activation='relu')\n",
        "    self.dense_2 = Dense(512, activation='relu')\n",
        "    self.dense_3 = Dense(num_classes, activation='softmax')\n",
        "\n",
        "  def call(self, inputs):\n",
        "    # Define your forward pass here,\n",
        "    # using layers you previously defined (in `__init__`).\n",
        "    x = self.dense_1(inputs)\n",
        "    x = self.dense_2(x)\n",
        "    return self.dense_3(x)\n",
        "\n",
        "model = DenseModel(num_classes=10)"
      ],
      "execution_count": 0,
      "outputs": []
    },
    {
      "cell_type": "code",
      "metadata": {
        "id": "jFs-QBFtEp0s",
        "colab_type": "code",
        "outputId": "79dd3e47-8065-4585-bd31-2d386d6e4df0",
        "colab": {
          "base_uri": "https://localhost:8080/",
          "height": 156
        }
      },
      "source": [
        "model.compile(optimizer=RMSprop(),\n",
        "              loss='categorical_crossentropy',\n",
        "              metrics=['accuracy'])\n",
        "\n",
        "model.fit(x_train, y_train, batch_size=32, epochs=3)"
      ],
      "execution_count": 8,
      "outputs": [
        {
          "output_type": "stream",
          "text": [
            "Train on 60000 samples\n",
            "Epoch 1/3\n",
            "60000/60000 [==============================] - 19s 317us/sample - loss: 0.1919 - accuracy: 0.9435\n",
            "Epoch 2/3\n",
            "60000/60000 [==============================] - 18s 306us/sample - loss: 0.1024 - accuracy: 0.9733\n",
            "Epoch 3/3\n",
            "60000/60000 [==============================] - 18s 305us/sample - loss: 0.0849 - accuracy: 0.9803\n"
          ],
          "name": "stdout"
        },
        {
          "output_type": "execute_result",
          "data": {
            "text/plain": [
              "<tensorflow.python.keras.callbacks.History at 0x7f841fd74240>"
            ]
          },
          "metadata": {
            "tags": []
          },
          "execution_count": 8
        }
      ]
    },
    {
      "cell_type": "markdown",
      "metadata": {
        "id": "axZWFRVEyPv7",
        "colab_type": "text"
      },
      "source": [
        "Przykład własnej warstwy."
      ]
    },
    {
      "cell_type": "code",
      "metadata": {
        "id": "NxVJBabOxkQS",
        "colab_type": "code",
        "outputId": "47c2e959-c9a1-4b6c-ce53-0e9472b1bac4",
        "colab": {
          "base_uri": "https://localhost:8080/",
          "height": 156
        }
      },
      "source": [
        "class CustomLayer(Layer):\n",
        "\n",
        "    def __init__(self, output_dim, **kwargs):\n",
        "        self.output_dim = output_dim\n",
        "        super(CustomLayer, self).__init__(**kwargs)\n",
        "\n",
        "    def build(self, input_shape):\n",
        "        # Create a trainable weight variable for this layer.\n",
        "        self.kernel = self.add_weight(name='kernel',\n",
        "                                      shape=(int(input_shape[1]), self.output_dim),\n",
        "                                      initializer='uniform',\n",
        "                                      trainable=True)\n",
        "\n",
        "    def call(self, inputs):\n",
        "        return tf.matmul(inputs, self.kernel)\n",
        "\n",
        "\n",
        "class CustomModel(Model):\n",
        "\n",
        "    def __init__(self, num_classes=10):\n",
        "        super(CustomModel, self).__init__(name='custom_model')\n",
        "        self.num_classes = num_classes\n",
        "        # Define your layers here.\n",
        "        self.dense_1 = CustomLayer(output_dim=512, input_shape=(784,))\n",
        "        self.dense_2 = CustomLayer(output_dim=512, input_shape=(512,))\n",
        "        self.dense_3 = CustomLayer(output_dim=num_classes, input_shape=(512,))\n",
        "\n",
        "    def call(self, inputs):\n",
        "        # Define your forward pass here,\n",
        "        # using layers you previously defined (in `__init__`).\n",
        "        x = self.dense_1(inputs)\n",
        "        x = K.relu(x)\n",
        "        x = self.dense_2(x)\n",
        "        x = K.relu(x)\n",
        "        x = self.dense_3(x)\n",
        "        x = K.sigmoid(x)\n",
        "        return x\n",
        "\n",
        "model = CustomModel(num_classes=10)\n",
        "\n",
        "model.compile(optimizer=RMSprop(),\n",
        "              loss='categorical_crossentropy',\n",
        "              metrics=['accuracy'])\n",
        "\n",
        "\n",
        "model.fit(x_train, y_train, batch_size=128, epochs=3)\n",
        "\n",
        "\n"
      ],
      "execution_count": 9,
      "outputs": [
        {
          "output_type": "stream",
          "text": [
            "Train on 60000 samples\n",
            "Epoch 1/3\n",
            "60000/60000 [==============================] - 8s 129us/sample - loss: 0.2862 - accuracy: 0.9115\n",
            "Epoch 2/3\n",
            "60000/60000 [==============================] - 7s 122us/sample - loss: 0.0969 - accuracy: 0.9705\n",
            "Epoch 3/3\n",
            "60000/60000 [==============================] - 7s 122us/sample - loss: 0.0626 - accuracy: 0.9804\n"
          ],
          "name": "stdout"
        },
        {
          "output_type": "execute_result",
          "data": {
            "text/plain": [
              "<tensorflow.python.keras.callbacks.History at 0x7f841cef5198>"
            ]
          },
          "metadata": {
            "tags": []
          },
          "execution_count": 9
        }
      ]
    },
    {
      "cell_type": "markdown",
      "metadata": {
        "id": "ZgtZzVYg1361",
        "colab_type": "text"
      },
      "source": [
        "### Zadanie 1\n",
        "Na podstawie powyższego przykładu stwórz własny model kolejno składający się z:\n",
        "- warstwy konwolucyjnej (Conv2D): 32 filtry 3x3,\n",
        "- konwolucyjnej: 64 filtry 3x3,\n",
        "- warstwy MaxPooling (MaxPooling2D): 2x2\n",
        "- warstwy ukrytej gęstej (Dense): 128 neuronów,\n",
        "- warstwy wyjściowej.\n",
        "\n",
        "Ważne:\n",
        "- w każdej warstwie poza warstwą wyjściową funkcją aktywacji powinno być relu,\n",
        "- funkcja aktywacji dla warstwy wyjściowej to softmax,\n",
        "- między częścią konwolucyjną a gęstą trzeba spłaszczyć tensor przy pomocy warstwy (Flatten),\n",
        "- w przykładzie jest wykorzystywana sieć gęsta (dane są spłaszczone), sieci z warstwami konwolucyjnymi muszą otrzymać tensor 4-wymiarowy, zakomentuj linie \"spłaszczające\" podczas wczytywania danych.\n",
        "```\n",
        "x_train = x_train.reshape(60000, 784)\n",
        "x_test = x_test.reshape(10000, 784)\n",
        "```"
      ]
    },
    {
      "cell_type": "code",
      "metadata": {
        "id": "MSJUzxAc15uZ",
        "colab_type": "code",
        "outputId": "08b454e3-0a54-4e84-919d-b87c0a3e3bc9",
        "colab": {
          "base_uri": "https://localhost:8080/",
          "height": 139
        }
      },
      "source": [
        "class MyModel(Model):\n",
        "\n",
        "    def __init__(self, num_classes=10):\n",
        "        super(MyModel, self).__init__(name='my_model')\n",
        "        self.num_classes = num_classes\n",
        "        # Define your layers here.\n",
        "        self.conv_1 = Conv2D(32, (3,3), (1, 1),  activation='relu')\n",
        "        self.conv_2 = Conv2D(64, (3,3), (1, 1),  activation='relu')\n",
        "        self.maxPooling = MaxPooling2D((2, 2))\n",
        "        self.flatten = Flatten()\n",
        "        self.dense =Dense(128, 'relu')\n",
        "        self.dense_2 = Dense(num_classes,'softmax')\n",
        "\n",
        "    def call(self, inputs):\n",
        "        # Define your forward pass here,\n",
        "        # using layers you previously defined (in `__init__`).\n",
        "        x = self.conv_1(inputs)\n",
        "        x = self.conv_2(x)\n",
        "        \n",
        "        x = self.maxPooling(x)\n",
        "        x = self.flatten(x)\n",
        "        x = self.dense(x)\n",
        "        x = self.dense_2(x)\n",
        "        return x\n",
        "\n",
        "model = MyModel(num_classes=10)\n",
        "\n",
        "model.compile(optimizer=RMSprop(),\n",
        "              loss='categorical_crossentropy',\n",
        "              metrics=['accuracy'])\n",
        "\n",
        "\n",
        "\n",
        "result1 = model.fit(x_train, y_train, batch_size=32, epochs=3,validation_data=(x_test,y_test))\n"
      ],
      "execution_count": 36,
      "outputs": [
        {
          "output_type": "stream",
          "text": [
            "Train on 60000 samples, validate on 10000 samples\n",
            "Epoch 1/3\n",
            "60000/60000 [==============================] - 138s 2ms/sample - loss: 0.1527 - accuracy: 0.9524 - val_loss: 0.0521 - val_accuracy: 0.9839\n",
            "Epoch 2/3\n",
            "60000/60000 [==============================] - 137s 2ms/sample - loss: 0.0416 - accuracy: 0.9876 - val_loss: 0.0345 - val_accuracy: 0.9892\n",
            "Epoch 3/3\n",
            "60000/60000 [==============================] - 137s 2ms/sample - loss: 0.0261 - accuracy: 0.9917 - val_loss: 0.0318 - val_accuracy: 0.9901\n"
          ],
          "name": "stdout"
        }
      ]
    },
    {
      "cell_type": "markdown",
      "metadata": {
        "id": "fYDLWjdseB4H",
        "colab_type": "text"
      },
      "source": [
        "### Zadanie 2 \n",
        "Na podstawie powyższego przykładu stwórz model bloku ResNet:\n",
        "- w warstwach konwolucyjnych wykorzystaj padding='same', aby rozmiary tensorów się nie zmieniały,\n",
        "- tego modelu nie trzeba budować i uczyć, zostanie on wykorzystany w kolejnym zadaniu,\n",
        "- nie sugeruj się przykładem z własną warstwą, ten przykład jest podany tylko w celu zapoznania się z taką możliwością w TensorFlow, wszystkie zadania rozwiązujemy, tworząc własne modele."
      ]
    },
    {
      "cell_type": "markdown",
      "metadata": {
        "id": "RAvsPOz-GxjY",
        "colab_type": "text"
      },
      "source": [
        "![resnet](https://miro.medium.com/max/1000/1*6HDuqhUzP92iXhHoS0Wl3w.png)"
      ]
    },
    {
      "cell_type": "code",
      "metadata": {
        "id": "6yZ8yKmbee44",
        "colab_type": "code",
        "colab": {}
      },
      "source": [
        "class ResNet(Model):\n",
        "\n",
        "    def __init__(self):\n",
        "        super(ResNet, self).__init__(name='resnet')\n",
        "        # Define your layers here.\n",
        "        self.conv_1 = Conv2D(filters=32, kernel_size= (3,3), padding='same',activation='relu')\n",
        "        self.conv_2 = Conv2D(filters=64, kernel_size = (3,3),  padding='same')\n",
        "\n",
        "    def call(self, inputs):\n",
        "        # Define your forward pass here,\n",
        "        # using layers you previously defined (in `__init__`).\n",
        "        x = self.conv_1(inputs)\n",
        "        x = self.conv_2(x) + inputs\n",
        "        x = K.relu(x)\n",
        "        \n",
        "        return x\n"
      ],
      "execution_count": 0,
      "outputs": []
    },
    {
      "cell_type": "markdown",
      "metadata": {
        "id": "prwjaEv2efs3",
        "colab_type": "text"
      },
      "source": [
        "### Zadanie 3\n",
        "Zmodyfikuj model z zadania 1, zamieniając warstwy konwolucyjne na dwa modele bloku ResNet z zadania 2."
      ]
    },
    {
      "cell_type": "code",
      "metadata": {
        "id": "BGQr50EafxSH",
        "colab_type": "code",
        "outputId": "475d5fe1-cb6a-49c4-81ce-f1f87cd7e800",
        "colab": {
          "base_uri": "https://localhost:8080/",
          "height": 156
        }
      },
      "source": [
        "class SecondModel(Model):\n",
        "\n",
        "    def __init__(self, num_classes=10):\n",
        "        super(SecondModel, self).__init__(name='my_model')\n",
        "        self.num_classes = num_classes\n",
        "        # Define your layers here.\n",
        "        self.resNet_1 = ResNet()\n",
        "        self.resNet_2 = ResNet()\n",
        "        self.maxPooling = MaxPooling2D(pool_size=(2, 2))\n",
        "        self.flatten = Flatten()\n",
        "        self.dense =Dense(128, 'relu')\n",
        "        self.dense_2 = Dense(num_classes,'softmax')\n",
        "\n",
        "    def call(self, inputs):\n",
        "        # Define your forward pass here,\n",
        "        # using layers you previously defined (in `__init__`).\n",
        "        x = self.resNet_1(inputs)\n",
        "        x = self.resNet_2(x)\n",
        "        x = self.maxPooling(x)\n",
        "        x = self.flatten(x)\n",
        "        x = self.dense(x)\n",
        "        x = self.dense_2(x)\n",
        "        return x\n",
        "\n",
        "model = SecondModel(num_classes=10)\n",
        "\n",
        "model.compile(optimizer=RMSprop(),\n",
        "              loss='categorical_crossentropy',\n",
        "              metrics=['accuracy'])\n",
        "\n",
        "\n",
        "\n",
        "model.fit(x_train, y_train, batch_size=32, epochs=3,validation_data=(x_test,y_test))"
      ],
      "execution_count": 13,
      "outputs": [
        {
          "output_type": "stream",
          "text": [
            "Train on 60000 samples\n",
            "Epoch 1/3\n",
            "60000/60000 [==============================] - 480s 8ms/sample - loss: 0.1848 - accuracy: 0.9491\n",
            "Epoch 2/3\n",
            "60000/60000 [==============================] - 480s 8ms/sample - loss: 0.0388 - accuracy: 0.9883\n",
            "Epoch 3/3\n",
            "60000/60000 [==============================] - 480s 8ms/sample - loss: 0.0230 - accuracy: 0.9929\n"
          ],
          "name": "stdout"
        },
        {
          "output_type": "execute_result",
          "data": {
            "text/plain": [
              "<tensorflow.python.keras.callbacks.History at 0x7f841c3460f0>"
            ]
          },
          "metadata": {
            "tags": []
          },
          "execution_count": 13
        }
      ]
    },
    {
      "cell_type": "markdown",
      "metadata": {
        "id": "_3sOaUu3b77l",
        "colab_type": "text"
      },
      "source": [
        "### Zadanie 4\n",
        "Wykorzystując Keras Subclassing API, napisz Autoenkoder dla zbioru danych MNIST.\n",
        "- stwórz osobny model Enkodera,\n",
        "- stwórz osobny model Dekodera,\n",
        "- połącz oba modele celem zbudowania Autoenkodera,\n",
        "- można korzystać z warstw gęstych, nie trzeba korzystać z konwolucji,\n",
        "- poprzednie zadania były przykładem klasyfikacji, w których wykorzystywana była funkcja błędu categorical_crossentropy, w przypadku Autoenkoderów model rekonstruuje dane wejściowe, więc najłatwiej wykorzystać mean square error (mse),\n",
        "- w związku z powyższym również wyjście sieci się różni, nie klasyfikujemy (y_train) tylko rekonstruujemy (x_train)\n",
        "\n",
        "https://blog.keras.io/building-autoencoders-in-keras.html"
      ]
    },
    {
      "cell_type": "code",
      "metadata": {
        "id": "Kyu4YijDcA13",
        "colab_type": "code",
        "outputId": "64b95b9e-1762-4bfb-8c5a-75643d4b7a51",
        "colab": {
          "base_uri": "https://localhost:8080/",
          "height": 156
        }
      },
      "source": [
        "from tensorflow.keras.layers import UpSampling2D\n",
        "\n",
        "class Encoder(Model):\n",
        "\n",
        "    def __init__(self, num_classes=10):\n",
        "        super(Encoder, self).__init__(name='encoder')\n",
        "        self.num_classes = num_classes\n",
        "        # Define your layers here.\n",
        "        self.conv_1 = Conv2D(16, (3, 3), activation='relu', padding='same')\n",
        "        self.pooling = MaxPooling2D((2, 2), padding='same')\n",
        "        self.conv_2 = Conv2D(8, (3, 3), activation='relu', padding='same')\n",
        "        self.pooling_2 = MaxPooling2D((2, 2), padding='same')\n",
        "        self.conv_3 = Conv2D(8, (3, 3), activation='relu', padding='same')\n",
        "        self.encoded = MaxPooling2D((2, 2), padding='same')\n",
        "\n",
        "    def call(self, inputs):\n",
        "        # Define your forward pass here,\n",
        "        # using layers you previously defined (in `__init__`).\n",
        "        x = self.conv_1(inputs)\n",
        "        x = self.pooling(x)\n",
        "        \n",
        "        x = self.conv_2(x)\n",
        "        x = self.pooling(x)\n",
        "        x = self.conv_3(x)\n",
        "        x = self.encoded(x)\n",
        "        return x\n",
        "\n",
        "\n",
        "class Decoder(Model):\n",
        "\n",
        "    def __init__(self, num_classes=10):\n",
        "        super(Decoder, self).__init__(name='decoder')\n",
        "        self.conv_1 = Conv2D(8, (3, 3), activation='relu', padding='same')\n",
        "        self.upSamp_1 = UpSampling2D((2, 2))\n",
        "        self.conv_2 = Conv2D(8, (3, 3), activation='relu', padding='same')\n",
        "        self.upSamp_2 = UpSampling2D((2, 2))\n",
        "        self.conv_3 = Conv2D(16, (3, 3), activation='relu')\n",
        "        self.upSamp_3 = UpSampling2D((2, 2))\n",
        "        self.conv_4 = Conv2D(1, (3, 3), activation='sigmoid', padding='same')\n",
        "\n",
        "    def call(self, inputs):\n",
        "        x = self.conv_1(inputs)\n",
        "        x = self.upSamp_1(x)\n",
        "        x = self.conv_2(x)\n",
        "        x = self.upSamp_2(x)\n",
        "        x = self.conv_3(x)\n",
        "        x = self.upSamp_3(x)\n",
        "        x = self.conv_4(x)\n",
        "        return x\n",
        "\n",
        "\n",
        "\n",
        "class AutoEncoder(Model):\n",
        "  \n",
        "    def __init__(self):\n",
        "      super(AutoEncoder,self).__init__(name=\"autoencoder\")\n",
        "      self.encoder = Encoder()\n",
        "      self.decoder = Decoder()\n",
        "\n",
        "    def call(self, inputs):\n",
        "      x=self.encoder(inputs)\n",
        "      return self.decoder(x)\n",
        "\n",
        "\n",
        "model = AutoEncoder()\n",
        "\n",
        "model.compile(optimizer='adadelta',\n",
        "              loss='binary_crossentropy',\n",
        "              metrics=['accuracy'])\n",
        "\n",
        "\n",
        "\n",
        "model.fit(x_train, x_train, batch_size=32, epochs=3,validation_data=(x_test,y_test))\n",
        "\n",
        "\n"
      ],
      "execution_count": 17,
      "outputs": [
        {
          "output_type": "stream",
          "text": [
            "Train on 60000 samples\n",
            "Epoch 1/3\n",
            "60000/60000 [==============================] - 88s 1ms/sample - loss: 0.6608 - accuracy: 0.8086\n",
            "Epoch 2/3\n",
            "60000/60000 [==============================] - 88s 1ms/sample - loss: 0.4976 - accuracy: 0.8088\n",
            "Epoch 3/3\n",
            "60000/60000 [==============================] - 89s 1ms/sample - loss: 0.4350 - accuracy: 0.8088\n"
          ],
          "name": "stdout"
        },
        {
          "output_type": "execute_result",
          "data": {
            "text/plain": [
              "<tensorflow.python.keras.callbacks.History at 0x7f841fd6cef0>"
            ]
          },
          "metadata": {
            "tags": []
          },
          "execution_count": 17
        }
      ]
    },
    {
      "cell_type": "markdown",
      "metadata": {
        "id": "agFLqb3bUHNh",
        "colab_type": "text"
      },
      "source": [
        "## Regularyzacja\n",
        "### Zadanie 5\n",
        "Rozszerz model stworzony w zadaniu 1 o dwie warstwy Dropout (Dropout - https://keras.io/layers/core/):\n",
        "- jedna po warstwie MaxPooling (wartość współczynnika odrzucenia 0.25)\n",
        "- druga po gęstej warstwie ukrytej (Dense), wartość współczynnika odrzucenia 0.5.\n",
        "\n",
        "  \n",
        "\n",
        "\n",
        "\n"
      ]
    },
    {
      "cell_type": "code",
      "metadata": {
        "id": "EFqCcx1ZYMMt",
        "colab_type": "code",
        "colab": {
          "base_uri": "https://localhost:8080/",
          "height": 139
        },
        "outputId": "2e4b7498-05c6-467f-c4b1-aabc448852fe"
      },
      "source": [
        "class DropoutModel(Model):\n",
        "\n",
        "    def __init__(self, num_classes=10):\n",
        "        super(DropoutModel, self).__init__(name='dropout_model')\n",
        "        self.num_classes = num_classes\n",
        "        self.conv_1 = Conv2D(32, (3,3), (1, 1),  activation='relu')\n",
        "        self.conv_2 = Conv2D(64, (3,3), (1, 1),  activation='relu')\n",
        "        self.maxPooling = MaxPooling2D((2, 2))\n",
        "        self.dropout_1 = Dropout(0.25)\n",
        "        self.flatten = Flatten()\n",
        "        self.dense =Dense(128, 'relu')\n",
        "        self.dropout_2 = Dropout(0.5)\n",
        "        self.dense_2 = Dense(num_classes,'softmax')\n",
        "\n",
        "    def call(self, inputs):\n",
        "        x = self.conv_1(inputs)\n",
        "        x = self.conv_2(x)\n",
        "        x = self.maxPooling(x)\n",
        "        x = self.dropout_1(x)\n",
        "        x = self.flatten(x)\n",
        "        x = self.dense(x)\n",
        "        x = self.dropout_2(x)\n",
        "        x = self.dense_2(x)\n",
        "        return x\n",
        "\n",
        "model = DropoutModel(num_classes=10)\n",
        "\n",
        "model.compile(optimizer=RMSprop(),\n",
        "              loss='categorical_crossentropy',\n",
        "              metrics=['accuracy'])\n",
        "\n",
        "\n",
        "\n",
        "result5 = model.fit(x_train, y_train, batch_size=32, epochs=3,validation_data=(x_test,y_test))"
      ],
      "execution_count": 38,
      "outputs": [
        {
          "output_type": "stream",
          "text": [
            "Train on 60000 samples, validate on 10000 samples\n",
            "Epoch 1/3\n",
            "60000/60000 [==============================] - 144s 2ms/sample - loss: 0.2171 - accuracy: 0.9355 - val_loss: 0.0537 - val_accuracy: 0.9832\n",
            "Epoch 2/3\n",
            "60000/60000 [==============================] - 143s 2ms/sample - loss: 0.0780 - accuracy: 0.9776 - val_loss: 0.0368 - val_accuracy: 0.9881\n",
            "Epoch 3/3\n",
            "60000/60000 [==============================] - 143s 2ms/sample - loss: 0.0604 - accuracy: 0.9821 - val_loss: 0.0367 - val_accuracy: 0.9874\n"
          ],
          "name": "stdout"
        }
      ]
    },
    {
      "cell_type": "markdown",
      "metadata": {
        "id": "_WgmXVZ0YSVg",
        "colab_type": "text"
      },
      "source": [
        "### Zadanie 6\n",
        "Rozszerz model stworzony w zadaniu 1 o dwie warstwy Batch normalization (BatchNormalization - https://keras.io/layers/normalization/) po warstwach konwolucyjnych."
      ]
    },
    {
      "cell_type": "code",
      "metadata": {
        "id": "bcmlyYOpYUyy",
        "colab_type": "code",
        "colab": {
          "base_uri": "https://localhost:8080/",
          "height": 139
        },
        "outputId": "72b5071c-3e17-4fb5-ce27-4dfa63018971"
      },
      "source": [
        "class BatchModel(Model):\n",
        "\n",
        "    def __init__(self, num_classes=10):\n",
        "        super(BatchModel, self).__init__(name='batch_model')\n",
        "        self.num_classes = num_classes\n",
        "        # Define your layers here.\n",
        "        self.conv_1 = Conv2D(32, (3,3), (1, 1),  activation='relu')\n",
        "        self.batch_1 = BatchNormalization()\n",
        "        self.conv_2 = Conv2D(64, (3,3), (1, 1),  activation='relu')\n",
        "        self.batch_2 = BatchNormalization()\n",
        "        self.maxPooling = MaxPooling2D((2, 2))\n",
        "        self.flatten = Flatten()\n",
        "        self.dense =Dense(128, 'relu')\n",
        "        self.dense_2 = Dense(num_classes,'softmax')\n",
        "\n",
        "    def call(self, inputs):\n",
        "        # Define your forward pass here,\n",
        "        # using layers you previously defined (in `__init__`).\n",
        "        x = self.conv_1(inputs)\n",
        "        x = self.batch_1(x)\n",
        "        x = self.conv_2(x)\n",
        "        x = self.batch_2(x)\n",
        "        x = self.maxPooling(x)\n",
        "        x = self.flatten(x)\n",
        "        x = self.dense(x)\n",
        "        x = self.dense_2(x)\n",
        "        return x\n",
        "\n",
        "model = BatchModel(num_classes=10)\n",
        "\n",
        "model.compile(optimizer=RMSprop(),\n",
        "              loss='categorical_crossentropy',\n",
        "              metrics=['accuracy'])\n",
        "\n",
        "\n",
        "\n",
        "result6 = model.fit(x_train, y_train, batch_size=32, epochs=3,validation_data=(x_test,y_test))"
      ],
      "execution_count": 39,
      "outputs": [
        {
          "output_type": "stream",
          "text": [
            "Train on 60000 samples, validate on 10000 samples\n",
            "Epoch 1/3\n",
            "60000/60000 [==============================] - 173s 3ms/sample - loss: 0.2379 - accuracy: 0.9530 - val_loss: 0.2436 - val_accuracy: 0.9222\n",
            "Epoch 2/3\n",
            "60000/60000 [==============================] - 172s 3ms/sample - loss: 0.0625 - accuracy: 0.9856 - val_loss: 0.0723 - val_accuracy: 0.9857\n",
            "Epoch 3/3\n",
            "60000/60000 [==============================] - 173s 3ms/sample - loss: 0.0418 - accuracy: 0.9904 - val_loss: 0.0811 - val_accuracy: 0.9841\n"
          ],
          "name": "stdout"
        }
      ]
    },
    {
      "cell_type": "markdown",
      "metadata": {
        "id": "sp4DmjC8YVl_",
        "colab_type": "text"
      },
      "source": [
        "### Zadanie 7\n",
        "Rozszerz model stworzony w zadaniu 1 o warstwy z zadań 5 i 6."
      ]
    },
    {
      "cell_type": "markdown",
      "metadata": {
        "id": "OagVphbOsfWF",
        "colab_type": "text"
      },
      "source": [
        ""
      ]
    },
    {
      "cell_type": "code",
      "metadata": {
        "id": "2yDqgHMGYZZd",
        "colab_type": "code",
        "colab": {
          "base_uri": "https://localhost:8080/",
          "height": 139
        },
        "outputId": "7b993f22-156c-48ff-b6ca-2485450b5b07"
      },
      "source": [
        "class FinalModel(Model):\n",
        "\n",
        "    def __init__(self, num_classes=10):\n",
        "        super(FinalModel, self).__init__(name='final_model')\n",
        "        self.num_classes = num_classes\n",
        "        # Define your layers here.\n",
        "        self.conv_1 = Conv2D(32, (3,3), (1, 1),  activation='relu')\n",
        "        self.batch_1 = BatchNormalization()\n",
        "        self.conv_2 = Conv2D(64, (3,3), (1, 1),  activation='relu')\n",
        "        self.batch_2 = BatchNormalization()\n",
        "        self.maxPooling = MaxPooling2D((2, 2))\n",
        "        self.dropout_1 = Dropout(0.25)\n",
        "        self.flatten = Flatten()\n",
        "        self.dense =Dense(128, 'relu')\n",
        "        self.dropout_2 = Dropout(0.5)\n",
        "        self.dense_2 = Dense(num_classes,'softmax')\n",
        "\n",
        "    def call(self, inputs):\n",
        "        # Define your forward pass here,\n",
        "        # using layers you previously defined (in `__init__`).\n",
        "        x = self.conv_1(inputs)\n",
        "        x = self.batch_1(x)\n",
        "        x = self.conv_2(x)\n",
        "        x = self.batch_2(x)\n",
        "        x = self.maxPooling(x)\n",
        "        x = self.dropout_1(x)\n",
        "        x = self.flatten(x)\n",
        "        x = self.dense(x)\n",
        "        x = self.dropout_2(x)\n",
        "        x = self.dense_2(x)\n",
        "        return x\n",
        "\n",
        "model = FinalModel(num_classes=10)\n",
        "\n",
        "model.compile(optimizer=RMSprop(),\n",
        "              loss='categorical_crossentropy',\n",
        "              metrics=['accuracy'])\n",
        "\n",
        "\n",
        "\n",
        "result7 = model.fit(x_train, y_train, batch_size=32, epochs=3,validation_data=(x_test,y_test))"
      ],
      "execution_count": 40,
      "outputs": [
        {
          "output_type": "stream",
          "text": [
            "Train on 60000 samples, validate on 10000 samples\n",
            "Epoch 1/3\n",
            "60000/60000 [==============================] - 178s 3ms/sample - loss: 0.3573 - accuracy: 0.9139 - val_loss: 0.2878 - val_accuracy: 0.9111\n",
            "Epoch 2/3\n",
            "60000/60000 [==============================] - 180s 3ms/sample - loss: 0.1695 - accuracy: 0.9622 - val_loss: 0.0868 - val_accuracy: 0.9801\n",
            "Epoch 3/3\n",
            "60000/60000 [==============================] - 179s 3ms/sample - loss: 0.1377 - accuracy: 0.9689 - val_loss: 0.0632 - val_accuracy: 0.9842\n"
          ],
          "name": "stdout"
        }
      ]
    },
    {
      "cell_type": "markdown",
      "metadata": {
        "id": "GoruuRfaYMqZ",
        "colab_type": "text"
      },
      "source": [
        "### Zadanie 8 \n",
        "Porównaj modele stworzone w zadaniach 1, 5, 6, 7. Stwórz wykresy z przebiegiem błędu funkcji celu i dokładności dla zbioru treningowego i walidacyjnego.\n",
        "Cztery wykresy:\n",
        "- błąd funkcji celu dla zbioru treningowego,\n",
        "- błąd funkcji celu dla zbioru walidacyjnego,\n",
        "- dokładność dla zbioru treningowego,\n",
        "- dokładność dla zbioru walidacyjnego\n",
        "\n",
        "Na każdym wykresie powinny być 4 przebiegi dla modeli z wszystkich zadań (1, 5, 6, 7).\n"
      ]
    },
    {
      "cell_type": "code",
      "metadata": {
        "id": "eixxtPW8Ygyk",
        "colab_type": "code",
        "colab": {}
      },
      "source": [
        "from matplotlib import pyplot as plt\n",
        "\n",
        "def make_plot(title, key, model1, model5, model6, model7):\n",
        "  plt.plot(model1.history[key],label='Model 1')\n",
        "  plt.plot(model5.history[key],label='Model 5')\n",
        "  plt.plot(model6.history[key],label='Model 6')\n",
        "  plt.plot(model7.history[key],label='Model 7')\n",
        "  \n",
        "  plt.title(title)\n",
        "  plt.xlabel('epoch')\n",
        "  plt.ylabel(key)\n",
        "  plt.legend()\n",
        "  plt.show()\n",
        "\n",
        "\n",
        "make_plot(\"Błąd funkcji celu dla zbioru treningowego\",'loss',result1,result5,result6,result7)\n",
        "make_plot(\"Błąd funkcji celu dla zbioru walidacyjnego\",'val_loss',result1,result5,result6,result7)\n",
        "make_plot(\"Dokładność dla zbioru treningoweg\",'accuracy',result1,result5,result6,result7)\n",
        "make_plot(\"Dokładność dla zbioru walidacyjnego\",'val_accuracy',result1,result5,result6,result7)"
      ],
      "execution_count": 0,
      "outputs": []
    }
  ]
}